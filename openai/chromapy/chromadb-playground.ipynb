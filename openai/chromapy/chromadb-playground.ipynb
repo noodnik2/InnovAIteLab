{
 "cells": [
  {
   "cell_type": "code",
   "execution_count": 1,
   "metadata": {
    "tags": []
   },
   "outputs": [
    {
     "name": "stderr",
     "output_type": "stream",
     "text": [
      "Using embedded DuckDB without persistence: data will be transient\n",
      "No embedding_function provided, using default embedding function: SentenceTransformerEmbeddingFunction\n",
      "/Users/martyross/repos/noodnik2/incubator20/gpt/openapi/py/.conda/lib/python3.10/site-packages/tqdm/auto.py:21: TqdmWarning: IProgress not found. Please update jupyter and ipywidgets. See https://ipywidgets.readthedocs.io/en/stable/user_install.html\n",
      "  from .autonotebook import tqdm as notebook_tqdm\n"
     ]
    }
   ],
   "source": [
    "# Example 1 - found on https://github.com/chroma-core/chroma\n",
    "import chromadb\n",
    "# setup Chroma in-memory, for easy prototyping. Can add persistence easily!\n",
    "client = chromadb.Client()\n",
    "\n",
    "# Create collection. get_collection, get_or_create_collection, delete_collection also available!\n",
    "collection = client.create_collection(\"all-my-documents\")\n",
    "\n",
    "# Add docs to the collection. Can also update and delete. Row-based API coming soon!\n",
    "collection.add(\n",
    "    documents=[\"This is document1\", \"This is document2\"], # we handle tokenization, embedding, and indexing automatically. You can skip that and add your own embeddings as well\n",
    "    metadatas=[{\"source\": \"notion\"}, {\"source\": \"google-docs\"}], # filter on these!\n",
    "    ids=[\"doc1\", \"doc2\"], # unique for each doc\n",
    ")\n",
    "\n",
    "# Query/search 2 most similar results. You can also .get by id\n",
    "results = collection.query(\n",
    "    query_texts=[\"This is a query document\"],\n",
    "    n_results=2,\n",
    "    # where={\"metadata_field\": \"is_equal_to_this\"}, # optional filter\n",
    "    # where_document={\"$contains\":\"search_string\"}  # optional filter\n",
    ")"
   ]
  },
  {
   "cell_type": "code",
   "execution_count": 2,
   "metadata": {
    "collapsed": false,
    "jupyter": {
     "outputs_hidden": false
    }
   },
   "outputs": [
    {
     "data": {
      "text/plain": [
       "{'ids': [['doc1', 'doc2']],\n",
       " 'embeddings': None,\n",
       " 'documents': [['This is document1', 'This is document2']],\n",
       " 'metadatas': [[{'source': 'notion'}, {'source': 'google-docs'}]],\n",
       " 'distances': [[0.9026352763175964, 1.035815715789795]]}"
      ]
     },
     "execution_count": 2,
     "metadata": {},
     "output_type": "execute_result"
    }
   ],
   "source": [
    "results"
   ]
  },
  {
   "cell_type": "code",
   "execution_count": 3,
   "metadata": {
    "collapsed": false,
    "jupyter": {
     "outputs_hidden": false
    }
   },
   "outputs": [
    {
     "name": "stderr",
     "output_type": "stream",
     "text": [
      "No embedding_function provided, using default embedding function: SentenceTransformerEmbeddingFunction\n"
     ]
    },
    {
     "name": "stdout",
     "output_type": "stream",
     "text": [
      "{'ids': [['id1', 'id5'], ['id2', 'id4']], 'embeddings': None, 'documents': [['doc1', 'doc5'], ['doc2', 'doc4']], 'metadatas': [[{'uri': 'img1.png', 'style': 'style1'}, {'uri': 'img5.png', 'style': 'style1'}], [{'uri': 'img2.png', 'style': 'style2'}, {'uri': 'img4.png', 'style': 'style1'}]], 'distances': [[0.0, 0.0], [11.960000038146973, 11.960000038146973]]}\n"
     ]
    }
   ],
   "source": [
    "# Example 2 found on https://colab.research.google.com/drive/1QEzFyqnoFxq7LUGyP1vzR4iLt9PpCDXv?usp=sharing#scrollTo=64dWyeEdKAX9\n",
    "collection2 = client.create_collection(\"test\")\n",
    "collection2.add(\n",
    "    embeddings=[\n",
    "        [1.1, 2.3, 3.2],\n",
    "        [4.5, 6.9, 4.4],\n",
    "        [1.1, 2.3, 3.2],\n",
    "        [4.5, 6.9, 4.4],\n",
    "        [1.1, 2.3, 3.2],\n",
    "        [4.5, 6.9, 4.4],\n",
    "        [1.1, 2.3, 3.2],\n",
    "        [4.5, 6.9, 4.4],\n",
    "    ],\n",
    "    metadatas=[\n",
    "        {\"uri\": \"img1.png\", \"style\": \"style1\"},\n",
    "        {\"uri\": \"img2.png\", \"style\": \"style2\"},\n",
    "        {\"uri\": \"img3.png\", \"style\": \"style1\"},\n",
    "        {\"uri\": \"img4.png\", \"style\": \"style1\"},\n",
    "        {\"uri\": \"img5.png\", \"style\": \"style1\"},\n",
    "        {\"uri\": \"img6.png\", \"style\": \"style1\"},\n",
    "        {\"uri\": \"img7.png\", \"style\": \"style1\"},\n",
    "        {\"uri\": \"img8.png\", \"style\": \"style1\"},\n",
    "    ],\n",
    "    documents=[\"doc1\", \"doc2\", \"doc3\", \"doc4\", \"doc5\", \"doc6\", \"doc7\", \"doc8\"],\n",
    "    ids=[\"id1\", \"id2\", \"id3\", \"id4\", \"id5\", \"id6\", \"id7\", \"id8\"],\n",
    ")\n",
    "\n",
    "query_result = collection2.query(\n",
    "    query_embeddings=[[1.1, 2.3, 3.2], [5.1, 4.3, 2.2]],\n",
    "    n_results=2,\n",
    ")\n",
    "\n",
    "print(query_result)"
   ]
  },
  {
   "cell_type": "code",
   "execution_count": 2,
   "metadata": {
    "tags": []
   },
   "outputs": [
    {
     "name": "stderr",
     "output_type": "stream",
     "text": [
      "Using embedded DuckDB with persistence: data will be stored in: ./persist-directory\n"
     ]
    },
    {
     "data": {
      "text/plain": [
       "True"
      ]
     },
     "execution_count": 2,
     "metadata": {},
     "output_type": "execute_result"
    }
   ],
   "source": [
    "# See: https://docs.trychroma.com/api-reference\n",
    "\n",
    "# In-memory chroma with saving/loading to disk\n",
    "from chromadb.config import Settings\n",
    "client = chromadb.Client(Settings(chroma_db_impl=\"duckdb+parquet\",\n",
    "                                  persist_directory=\"./persist-directory\"\n",
    "                                  ))\n",
    "\n",
    "# (i) JUPYTER NOTEBOOKS\n",
    "# In a normal python program, .persist() will happening automatically if you set it.\n",
    "# But in a Jupyter Notebook you will need to manually call client.persist().\n",
    "client.persist()"
   ]
  },
  {
   "cell_type": "code",
   "execution_count": null,
   "metadata": {},
   "outputs": [],
   "source": [
    "client.heartbeat() # returns a nanosecond heartbeat. Useful for making sure the client remains connected.\n",
    "client.reset() # Empties and completely resets the database. ⚠️ This is destructive and not reversible."
   ]
  },
  {
   "cell_type": "code",
   "execution_count": 4,
   "metadata": {
    "collapsed": false,
    "jupyter": {
     "outputs_hidden": false
    },
    "tags": []
   },
   "outputs": [
    {
     "name": "stderr",
     "output_type": "stream",
     "text": [
      "No embedding_function provided, using default embedding function: SentenceTransformerEmbeddingFunction\n"
     ]
    },
    {
     "name": "stdout",
     "output_type": "stream",
     "text": [
      "collection3.count() = 0\n",
      "\n"
     ]
    }
   ],
   "source": [
    "# Run chroma just as a client to talk to a backend service\n",
    "\n",
    "from chromadb.config import Settings\n",
    "client = chromadb.Client(Settings(chroma_api_impl=\"rest\",\n",
    "                                       chroma_server_host=\"localhost\",\n",
    "                                       chroma_server_http_port=\"8000\"\n",
    "                                     ))\n",
    "collection3 = client.create_collection(\"test_collection3\")\n",
    "print(f'collection3.count() before = {collection3.count()}\\n')"
   ]
  },
  {
   "cell_type": "code",
   "execution_count": 6,
   "metadata": {
    "tags": []
   },
   "outputs": [
    {
     "name": "stdout",
     "output_type": "stream",
     "text": [
      "collection3.count() after = 8\n",
      "\n"
     ]
    }
   ],
   "source": [
    "collection3.add(\n",
    "    embeddings=[\n",
    "        [1.1, 2.3, 3.2],\n",
    "        [4.5, 6.9, 4.4],\n",
    "        [1.1, 2.3, 3.2],\n",
    "        [4.5, 6.9, 4.4],\n",
    "        [1.1, 2.3, 3.2],\n",
    "        [4.5, 6.9, 4.4],\n",
    "        [1.1, 2.3, 3.2],\n",
    "        [4.5, 6.9, 4.4],\n",
    "    ],\n",
    "    metadatas=[\n",
    "        {\"uri\": \"img1.png\", \"style\": \"style1\"},\n",
    "        {\"uri\": \"img2.png\", \"style\": \"style2\"},\n",
    "        {\"uri\": \"img3.png\", \"style\": \"style1\"},\n",
    "        {\"uri\": \"img4.png\", \"style\": \"style1\"},\n",
    "        {\"uri\": \"img5.png\", \"style\": \"style1\"},\n",
    "        {\"uri\": \"img6.png\", \"style\": \"style1\"},\n",
    "        {\"uri\": \"img7.png\", \"style\": \"style1\"},\n",
    "        {\"uri\": \"img8.png\", \"style\": \"style1\"},\n",
    "    ],\n",
    "    documents=[\"doc1\", \"doc2\", \"doc3\", \"doc4\", \"doc5\", \"doc6\", \"doc7\", \"doc8\"],\n",
    "    ids=[\"id1\", \"id2\", \"id3\", \"id4\", \"id5\", \"id6\", \"id7\", \"id8\"],\n",
    ")\n",
    "\n",
    "\n",
    "print(f'collection3.count() after = {collection3.count()}\\n')"
   ]
  },
  {
   "cell_type": "code",
   "execution_count": null,
   "metadata": {},
   "outputs": [],
   "source": []
  }
 ],
 "metadata": {
  "kernelspec": {
   "display_name": "Python 3",
   "language": "python",
   "name": "python3"
  },
  "language_info": {
   "codemirror_mode": {
    "name": "ipython",
    "version": 2
   },
   "file_extension": ".py",
   "mimetype": "text/x-python",
   "name": "python",
   "nbconvert_exporter": "python",
   "pygments_lexer": "ipython2",
   "version": "2.7.6"
  }
 },
 "nbformat": 4,
 "nbformat_minor": 4
}
