{
 "cells": [
  {
   "cell_type": "code",
   "execution_count": 2,
   "id": "61d8ee2a-ee6d-4a26-89cd-649cb78fc768",
   "metadata": {
    "tags": []
   },
   "outputs": [],
   "source": [
    "%load_ext dotenv\n",
    "%dotenv"
   ]
  },
  {
   "cell_type": "code",
   "execution_count": 5,
   "id": "85653317-69ca-4b4a-9bb5-5ef05bf3b84d",
   "metadata": {
    "tags": []
   },
   "outputs": [
    {
     "data": {
      "text/plain": [
       "<OpenAIObject text_completion id=cmpl-78dDS1oLJFjbIusZGi75iAbJIJIZj at 0x7fd655f0fc40> JSON: {\n",
       "  \"choices\": [\n",
       "    {\n",
       "      \"finish_reason\": \"stop\",\n",
       "      \"index\": 0,\n",
       "      \"logprobs\": null,\n",
       "      \"text\": \" \\u05d4\\u05d7\\u05d3\\u05e8\\u05d9\\u05dd \\u05e9\\u05dc\\u05da \\u05d6\\u05de\\u05d9\\u05e0\\u05d9\\u05dd? \\u05d4\\u05d0\\u05dd \\u05d4\\u05e9\\u05d9\\u05e8\\u05d5\\u05ea\\u05d9\\u05dd \\u05e0\\u05e7\\u05d9\\u05d9\\u05dd?\\n2. \\u00bfQu\\u00e9 habitaciones tienes disponibles? \\u00bfEst\\u00e1n limpios los ba\\u00f1os?\"\n",
       "    }\n",
       "  ],\n",
       "  \"created\": 1682291726,\n",
       "  \"id\": \"cmpl-78dDS1oLJFjbIusZGi75iAbJIJIZj\",\n",
       "  \"model\": \"text-davinci-003\",\n",
       "  \"object\": \"text_completion\",\n",
       "  \"usage\": {\n",
       "    \"completion_tokens\": 72,\n",
       "    \"prompt_tokens\": 32,\n",
       "    \"total_tokens\": 104\n",
       "  }\n",
       "}"
      ]
     },
     "execution_count": 5,
     "metadata": {},
     "output_type": "execute_result"
    }
   ],
   "source": [
    "import os\n",
    "import openai\n",
    "\n",
    "openai.api_key = os.getenv(\"OPENAI_API_KEY\")\n",
    "\n",
    "response = openai.Completion.create(\n",
    "    model=\"text-davinci-003\",\n",
    "    prompt=\"Translate this into 1. Hebrew, 2. Spanish:\\n\\nWhat rooms do you have available?  Are the toilets clean?\\n\\n1. \",\n",
    "    temperature=0.3,\n",
    "    max_tokens=100,\n",
    "    top_p=1,\n",
    "    frequency_penalty=0,\n",
    "    presence_penalty=0\n",
    ")\n",
    "\n",
    "response"
   ]
  },
  {
   "cell_type": "code",
   "execution_count": null,
   "id": "e406ae99-62a2-4abc-99c7-6c842ba1ace0",
   "metadata": {},
   "outputs": [],
   "source": []
  }
 ],
 "metadata": {
  "kernelspec": {
   "display_name": "Python 3 (ipykernel)",
   "language": "python",
   "name": "python3"
  },
  "language_info": {
   "codemirror_mode": {
    "name": "ipython",
    "version": 3
   },
   "file_extension": ".py",
   "mimetype": "text/x-python",
   "name": "python",
   "nbconvert_exporter": "python",
   "pygments_lexer": "ipython3",
   "version": "3.10.11"
  }
 },
 "nbformat": 4,
 "nbformat_minor": 5
}
